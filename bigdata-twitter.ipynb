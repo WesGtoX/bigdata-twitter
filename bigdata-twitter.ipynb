{
 "cells": [
  {
   "cell_type": "code",
   "execution_count": 30,
   "metadata": {},
   "outputs": [],
   "source": [
    "import twitter\n",
    "import pprint"
   ]
  },
  {
   "cell_type": "code",
   "execution_count": 31,
   "metadata": {},
   "outputs": [
    {
     "data": {
      "text/plain": [
       "User(ID=40560615, ScreenName=Wess_Mendes)"
      ]
     },
     "execution_count": 31,
     "metadata": {},
     "output_type": "execute_result"
    }
   ],
   "source": [
    "api = twitter.Api(consumer_key='q4CMCxqGuFzqN7nk5UQFgMiyV',\n",
    "                      consumer_secret='C06Of1wrb1oOY04553CnWofEzDG2KkZJz63RIqsk5Gewbhnnwv',\n",
    "                      access_token_key='40560615-x2goTPvh0vKKWF04NgidEbzJAiXHO9dGNH2R3Y1BW',\n",
    "                      access_token_secret='Ck8cC7lFuxEscr4feLjHfiNhYEXgSi6HZ9jiVSsuAfG6l')\n",
    "\n",
    "api.VerifyCredentials()"
   ]
  },
  {
   "cell_type": "code",
   "execution_count": 32,
   "metadata": {},
   "outputs": [
    {
     "name": "stdout",
     "output_type": "stream",
     "text": [
      "Digite sua pesquisa: lucifer\n"
     ]
    }
   ],
   "source": [
    "search = input(\"Digite sua pesquisa: \")"
   ]
  },
  {
   "cell_type": "code",
   "execution_count": 33,
   "metadata": {},
   "outputs": [
    {
     "name": "stdout",
     "output_type": "stream",
     "text": [
      "[Status(ID=996455059398381569, ScreenName=test5f1798, Created=Tue May 15 18:19:34 +0000 2018, Text='https://t.co/XWEHwHbrMg : 95ef3076-9cbb-47a3-b8a9-8d578cb1f86f'), Status(ID=996454928183853056, ScreenName=jurandyrjunior, Created=Tue May 15 18:19:02 +0000 2018, Text='curso presencial e a distancia fibra de vidro e mármore sintético https://t.co/ZDhRV65qcN'), Status(ID=996454529687224322, ScreenName=nixjimin, Created=Tue May 15 18:17:27 +0000 2018, Text='RT @serexdipity: o melhor das votações é colocar \"os fãs do bts\" no search e ver as pessoas bravas com o numero de votos https://t.co/f7blA…'), Status(ID=996454469528408069, ScreenName=test5f1798, Created=Tue May 15 18:17:13 +0000 2018, Text='https://t.co/atDjjNOE7d : 80921e27-81e7-40df-9fc8-b1ba014f60b9'), Status(ID=996454346488467457, ScreenName=LustforHalsey, Created=Tue May 15 18:16:44 +0000 2018, Text='RT @tristecinha: eu: ta tudo certo nem preciso descansar nada\\n\\neu: pesquisando a duvida no search do spotify'), Status(ID=996452623229378560, ScreenName=camilacabeyoarm, Created=Tue May 15 18:09:53 +0000 2018, Text='RT @portalcamilav: Não deixe de votar no RDMA através do Google. \\n#iVoteCamilaBBMAs\\n\\n https://t.co/kVvPjLtfQt'), Status(ID=996452185419534336, ScreenName=kyumila, Created=Tue May 15 18:08:08 +0000 2018, Text='@antichulia @COPA https://t.co/CfaV7CLcVJ aqui'), Status(ID=996451481736925185, ScreenName=luucasviana, Created=Tue May 15 18:05:21 +0000 2018, Text='RT @pontofrio: OLHA O TAMANHO DESSA OFERTONA! http://t.co/mP55MlrUfw http://t.co/rnsX6RI1vc')]\n"
     ]
    }
   ],
   "source": [
    "status_list = api.GetSearch(\n",
    "    geocode=None, term='search', since_id=None,\n",
    "    lang='pt', count=10, result_type='recent'\n",
    ")\n",
    "print(status_list)"
   ]
  },
  {
   "cell_type": "code",
   "execution_count": 34,
   "metadata": {},
   "outputs": [
    {
     "data": {
      "text/plain": [
       "'help(twitter.Status)\\n\\nstatus_list[0].GetText()\\n# u’RT @PandaRcds: @edmilsonpapo10 @OThereza MAIS UMA DAS MENTIRAS DO LULA LADRÃO DO BRASIL!’ \\n\\nhashtags = dict()\\n\\nfor status in status_list:\\n    status_hashtags = status.hashtags\\n    for hash in status_hashtags:\\n        if hashtags.get(hash.text) is None:\\n            hashtags[hash] = 1\\n        else:\\n            hashtags[hash] += 1 \\n\\npp = pprint.PrettyPrinter(indent=4)\\npp.pprint(hashtags)'"
      ]
     },
     "execution_count": 34,
     "metadata": {},
     "output_type": "execute_result"
    }
   ],
   "source": [
    "'''help(twitter.Status)\n",
    "\n",
    "status_list[0].GetText()\n",
    "# u’RT @PandaRcds: @edmilsonpapo10 @OThereza MAIS UMA DAS MENTIRAS DO LULA LADR\\xc3O DO BRASIL!’ \n",
    "\n",
    "hashtags = dict()\n",
    "\n",
    "for status in status_list:\n",
    "    status_hashtags = status.hashtags\n",
    "    for hash in status_hashtags:\n",
    "        if hashtags.get(hash.text) is None:\n",
    "            hashtags[hash] = 1\n",
    "        else:\n",
    "            hashtags[hash] += 1 \n",
    "\n",
    "pp = pprint.PrettyPrinter(indent=4)\n",
    "pp.pprint(hashtags)'''"
   ]
  },
  {
   "cell_type": "code",
   "execution_count": null,
   "metadata": {},
   "outputs": [],
   "source": []
  }
 ],
 "metadata": {
  "kernelspec": {
   "display_name": "Python 3",
   "language": "python",
   "name": "python3"
  },
  "language_info": {
   "codemirror_mode": {
    "name": "ipython",
    "version": 3
   },
   "file_extension": ".py",
   "mimetype": "text/x-python",
   "name": "python",
   "nbconvert_exporter": "python",
   "pygments_lexer": "ipython3",
   "version": "3.6.5"
  }
 },
 "nbformat": 4,
 "nbformat_minor": 2
}
