{
 "cells": [
  {
   "cell_type": "code",
   "execution_count": null,
   "metadata": {},
   "outputs": [],
   "source": [
    "import twitter\n",
    "import pprint\n",
    "\n",
    "api = twitter.Api(\n",
    "    consumer_key='q4CMCxqGuFzqN7nk5UQFgMiyV',\n",
    "    consumer_secret='C06Of1wrb1oOY04553CnWofEzDG2KkZJz63RIqsk5Gewbhnnwv',\n",
    "    access_token_key='40560615-x2goTPvh0vKKWF04NgidEbzJAiXHO9dGNH2R3Y1BW',\n",
    "    access_token_secret='Ck8cC7lFuxEscr4feLjHfiNhYEXgSi6HZ9jiVSsuAfG6l'\n",
    ")\n",
    "\n",
    "def socialmidia(api,search,cont):\n",
    "    q_s = \"q=\"+search+\"&count=\"+cont\n",
    "    status_list = api.GetSearch(\n",
    "        raw_query=q_s,\n",
    "    )\n",
    "\n",
    "    return status_list\n",
    "\n",
    "def main():\n",
    "    search = input(\"Digite sua pesquisa: \")\n",
    "    cont = input(\"Digite o tamanho de sua pesquisa: \")\n",
    "    \n",
    "    print(\"\\nQuantidade de twittes: \"+str(len(socialmidia(api,search,cont))))\n",
    "    return socialmidia(api,search,cont)\n",
    "\n",
    "main()"
   ]
  }
 ],
 "metadata": {
  "kernelspec": {
   "display_name": "Python 3",
   "language": "python",
   "name": "python3"
  },
  "language_info": {
   "codemirror_mode": {
    "name": "ipython",
    "version": 3
   },
   "file_extension": ".py",
   "mimetype": "text/x-python",
   "name": "python",
   "nbconvert_exporter": "python",
   "pygments_lexer": "ipython3",
   "version": "3.6.5"
  }
 },
 "nbformat": 4,
 "nbformat_minor": 2
}
